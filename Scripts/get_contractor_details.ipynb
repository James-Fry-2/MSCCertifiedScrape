{
 "cells": [
  {
   "cell_type": "code",
   "execution_count": 1,
   "metadata": {},
   "outputs": [],
   "source": [
    "import sys\n",
    "sys.path.insert(0, 'C:\\Repos\\MSCCertifiedScrape\\Scripts')\n",
    "from BaseRequestsScript import get_contractor_details\n",
    "import json\n",
    "import codecs\n",
    "import requests\n",
    "import random\n",
    "import os\n",
    "import itertools\n",
    "import time\n",
    "\n",
    "selected_tech_all = [\"ASHP\",\"Battery\",\"Biomass\",\"EAHP\",\"GAHP\",\"WSHP\",\"MicroCHP\",\"SAHP\",\"SolarPV\",\"SolarThermal\",\"WindTurbine\"]\n",
    "\n",
    "regions_all = [\"Eastern\",\"EastMidlands\",\"London\",\"NorthEast\",\"NorthWest\",\"SouthEast\",\"SouthWest\",\"WestMidlands\",\"YorkshireHumberside\",\"Scotland\",\"Wales\",\"NorthernIreland\"]\n",
    "\n",
    "\n",
    "proxies = requests.get(\n",
    "                    \"https://proxy.webshare.io/api/v2/proxy/list/?mode=direct&country_code__in=GB\",\n",
    "                    headers={ \"Authorization\": os.environ.get(\"Webshare\") }\n",
    "                    ).json()['results']\n",
    "\n",
    "def get_proxy(proxies):\n",
    "    ip = random.choice(proxies)\n",
    "    return (f\"http://{ip['username']}:{ip['password']}@{ip['proxy_address']}:{ip['port']}\"\n",
    "            , ip['country_code']) \n",
    "\n",
    "\n",
    "\n"
   ]
  },
  {
   "cell_type": "code",
   "execution_count": 22,
   "metadata": {},
   "outputs": [],
   "source": [
    "#pull data for all tech and all regions\n",
    "for tech, region in list(itertools.product(selected_tech_all,regions_all)):\n",
    "    proxy = get_proxy(proxies)[0]\n",
    "    z = get_contractor_details(tech=tech, region=region, proxies= {\"http\": proxy, \"https\": proxy})\n",
    "    file_name = \"C:\\Repos\\MSCCertifiedScrape\\Data\\contractor_data_{}_{}.json\".format(tech,region)\n",
    "    with open(file_name, 'w') as f:\n",
    "        json.dump(z, f)\n",
    "    time.sleep(20)"
   ]
  },
  {
   "cell_type": "code",
   "execution_count": null,
   "metadata": {},
   "outputs": [],
   "source": [
    "#copy json output into csvs for client\n",
    "import pathlib\n",
    "\n",
    "for file in pathlib.Path(\"C:\\Repos\\MSCCertifiedScrape\\Data\").glob('*.json'):\n",
    "    with open(file , 'r') as f:\n",
    "        data = f.read().rstrip()\n",
    "    cleaned_string = data.replace('\\\\', '')[2:-2]\n",
    "    df = pd.read_json(cleaned_string)\n",
    "    df.to_csv(file.absolute().as_posix().replace(\".json\",\".csv\"))\n"
   ]
  },
  {
   "cell_type": "code",
   "execution_count": 4,
   "metadata": {},
   "outputs": [],
   "source": [
    "# Combine all data sources\n",
    "import glob\n",
    "import pandas as pd\n",
    "csv_files = glob.glob(\"C:\\Repos\\MSCCertifiedScrape\\Data\\*.csv\")  # Change this path\n",
    "# Create an empty list to store DataFrames\n",
    "dataframes = []\n",
    "# Loop through files and append them\n",
    "for file in csv_files:\n",
    "    df = pd.read_csv(file)\n",
    "    dataframes.append(df)\n",
    "\n",
    "# Combine all DataFrames by appending\n",
    "final_df = pd.concat(dataframes, ignore_index=True)  # Ignore index to avoid duplicates\n",
    "final_df\n",
    "final_df.drop(final_df.columns[0], axis=1, inplace=True)"
   ]
  },
  {
   "cell_type": "code",
   "execution_count": null,
   "metadata": {},
   "outputs": [],
   "source": [
    "#Create csv file with combined data\n",
    "final_df.to_csv(\"C:\\Repos\\MSCCertifiedScrape\\Data\\CombinedDataRaw.csv\")\n",
    "\n",
    "#installers can appear in multiple regions \n",
    "final_df.drop_duplicates().to_csv(\"C:\\Repos\\MSCCertifiedScrape\\Data\\Cleaned\\CombinedData.csv\")"
   ]
  }
 ],
 "metadata": {
  "kernelspec": {
   "display_name": "web_scraper_env",
   "language": "python",
   "name": "python3"
  },
  "language_info": {
   "codemirror_mode": {
    "name": "ipython",
    "version": 3
   },
   "file_extension": ".py",
   "mimetype": "text/x-python",
   "name": "python",
   "nbconvert_exporter": "python",
   "pygments_lexer": "ipython3",
   "version": "3.9.21"
  }
 },
 "nbformat": 4,
 "nbformat_minor": 2
}
